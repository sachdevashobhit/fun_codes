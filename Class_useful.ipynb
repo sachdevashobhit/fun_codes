{
 "cells": [
  {
   "cell_type": "code",
   "execution_count": null,
   "metadata": {
    "collapsed": true
   },
   "outputs": [],
   "source": [
    "class Useful:\n",
    "    def __init__:\n",
    "        suffix_enum = '_enum'"
   ]
  },
  {
   "cell_type": "code",
   "execution_count": 2,
   "metadata": {
    "collapsed": false
   },
   "outputs": [],
   "source": [
    "    def enum(self, df, cols, suffix_enum):\n",
    "        '''Enter the dataframe name and list of column names to be enumerated'''\n",
    "        for i in cols:\n",
    "            darth = []\n",
    "            darth_dict = {}\n",
    "            darth_maxs = list(enumerate(np.unique(df[i])))\n",
    "            darth_maxs_dict = {name : i for i, name in darth_maxs}\n",
    "            df[i+self.suffix_enum] = df[i].map(lambda x: darth_maxs_dict[x]).astype(int)\n",
    "        return df.columns"
   ]
  }
 ],
 "metadata": {
  "kernelspec": {
   "display_name": "Python 2",
   "language": "python",
   "name": "python2"
  },
  "language_info": {
   "codemirror_mode": {
    "name": "ipython",
    "version": 2
   },
   "file_extension": ".py",
   "mimetype": "text/x-python",
   "name": "python",
   "nbconvert_exporter": "python",
   "pygments_lexer": "ipython2",
   "version": "2.7.12"
  }
 },
 "nbformat": 4,
 "nbformat_minor": 0
}
