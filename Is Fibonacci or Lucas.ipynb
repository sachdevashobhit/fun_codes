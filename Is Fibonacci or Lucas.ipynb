{
 "cells": [
  {
   "cell_type": "code",
   "execution_count": 11,
   "metadata": {
    "collapsed": false
   },
   "outputs": [],
   "source": [
    "def isfibo(number):\n",
    "    m = 1\n",
    "    n = 1\n",
    "    i = 1\n",
    "    while n<number:\n",
    "        n = m + n\n",
    "        m = n - m\n",
    "        i += 1\n",
    "    else:\n",
    "        if n - number == 0:\n",
    "            return True\n",
    "#             print 'Yes! Fibonacci series number:',i\n",
    "        else:\n",
    "            return False\n",
    "#             print 'No!'\n",
    "# number = input('Enter 1 to initiate or 0 to quit:')\n",
    "# while number !=0:\n",
    "#     number = input('Enter number to check (0 to quit):')\n",
    "#     if isfibo(number) == True:\n",
    "#         print 'Yes, Fibonacci'\n",
    "#     else:\n",
    "#         print 'Nah!'"
   ]
  },
  {
   "cell_type": "code",
   "execution_count": 12,
   "metadata": {
    "collapsed": false
   },
   "outputs": [],
   "source": [
    "def isLucas(number):\n",
    "    m = 2\n",
    "    n = 1\n",
    "    i = 1\n",
    "    while n<number:\n",
    "        n = m + n\n",
    "        m = n - m\n",
    "        i += 1\n",
    "    else:\n",
    "        if n - number == 0:\n",
    "            return True\n",
    "#             print 'Yes! Lucas series number:',i\n",
    "        else:\n",
    "            return False\n",
    "#             print 'No!'\n",
    "# number = input('Enter 1 to initiate or 0 to quit:')\n",
    "# while number !=0:\n",
    "#     number = input('Enter number to check (0 to quit):')\n",
    "#     if isLucas(number) == True:\n",
    "#         print 'Yes, Lucas!'\n",
    "#     else:\n",
    "#         print 'Nah'"
   ]
  },
  {
   "cell_type": "code",
   "execution_count": 13,
   "metadata": {
    "collapsed": false
   },
   "outputs": [
    {
     "name": "stdout",
     "output_type": "stream",
     "text": [
      "Enter 1 to initiate or 0 to quit:1\n",
      "Enter number to check (0 to quit):100\n",
      "None\n",
      "Enter number to check (0 to quit):90\n",
      "None\n",
      "Enter number to check (0 to quit):89\n",
      "It is Fibonacci\n",
      "Enter number to check (0 to quit):0\n",
      "None\n"
     ]
    }
   ],
   "source": [
    "number = input('Enter 1 to initiate or 0 to quit:')\n",
    "while number !=0:\n",
    "    number = input('Enter number to check (0 to quit):')\n",
    "    if isLucas(number) == True:\n",
    "        print 'It is Lucas!'\n",
    "    elif isfibo(number) == True:\n",
    "        print 'It is Fibonacci!'\n",
    "    else:\n",
    "        print 'None'"
   ]
  },
  {
   "cell_type": "code",
   "execution_count": null,
   "metadata": {
    "collapsed": true
   },
   "outputs": [],
   "source": []
  }
 ],
 "metadata": {
  "kernelspec": {
   "display_name": "Python 2",
   "language": "python",
   "name": "python2"
  },
  "language_info": {
   "codemirror_mode": {
    "name": "ipython",
    "version": 2
   },
   "file_extension": ".py",
   "mimetype": "text/x-python",
   "name": "python",
   "nbconvert_exporter": "python",
   "pygments_lexer": "ipython2",
   "version": "2.7.12"
  }
 },
 "nbformat": 4,
 "nbformat_minor": 0
}
